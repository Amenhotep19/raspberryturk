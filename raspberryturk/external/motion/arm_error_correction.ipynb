{
 "cells": [
  {
   "cell_type": "markdown",
   "metadata": {
    "collapsed": true
   },
   "source": [
    "# Arm Position Error Correction\n",
    "\n",
    "In this notebook, our goal is to correct real world error in the theoretical model that transforms servo position values $(s_1, s_2)$ to coordinates $(x, y)$ for a [SCARA](https://en.wikipedia.org/wiki/SCARA) on a chessboard plane.\n",
    "\n",
    "## INSERT Diagram of arm\n",
    "\n",
    "Given the variables in the above diagram we have two equations, one to calculate the $x$, and one for the $y$ for any $s_1, s_2$ combo (given that $0<s_1<1023$ and $0<s_2<1023$ – this range is due to the 10 bit accuracy of the [Dynamixel AX-12A](http://support.robotis.com/en/product/dynamixel/ax_series/dxl_ax_actuator.htm#Actuator_Address_1E) servo).\n",
    "\n",
    "$$f_x(s_1, s_2) = x_{offset} + \\cos(\\frac{1023-s_1}{1023}\\cdot 300°\\cdot \\phi_{s_1} + \\theta'_{s_1})\\cdot l_1 + \\cos((\\frac{1023-s_1}{1023}\\cdot 300°\\cdot \\phi_{s_1} + \\theta'_{s_1}) + (\\frac{1023-s_2}{1023}\\cdot 300°\\cdot \\phi_{s_2} + \\theta'_{s_2})) \\cdot l_2 \\\\[10pt]$$\n",
    "$$f_y(s_1, s_2) = y_{offset} + \\sin(\\frac{1023-s_1}{1023}\\cdot 300°\\cdot \\phi_{s_1} + \\theta'_{s_1})\\cdot l_1 + \\sin((\\frac{1023-s_1}{1023}\\cdot 300°\\cdot \\phi_{s_1} + \\theta'_{s_1}) + (\\frac{1023-s_2}{1023}\\cdot 300°\\cdot \\phi_{s_2} + \\theta'_{s_2})) \\cdot l_2$$\n",
    "\n",
    "However, both $f_x$ and $f_y$ are assuming ideal conditions. In reality there is error introduced by inaccuracies in measurements, and unexpected real world effects on the system.\n",
    "\n",
    "## INSERT Image showing error\n",
    "\n",
    "In order to achieve better accuracy in reality we need to better understand this error component and account for it.\n",
    "\n",
    "$$f'_x(s_1, s_2) = f_x(s_1, s_2) + \\epsilon_x(s_1, s_2)$$\n",
    "$$f'_y(s_1, s_2) = f_y(s_1, s_2) + \\epsilon_y(s_1, s_2)$$\n",
    "\n",
    "$f'_x$ and $f'_y$ represent the actual real world $x, y$ given any $s_1, s_2$, where $\\epsilon_x$ and $\\epsilon_y$ is the respective error. Our goal is to, as accurately as possible, model $\\epsilon$.\n",
    "\n",
    "In order to model $\\epsilon$ we first need to collect a sample of data points. To do this I manually moved the arm to to 81 points and recorded the real $x, y$ and the respective $s_1, s_2$. Let's begin there."
   ]
  },
  {
   "cell_type": "code",
   "execution_count": 61,
   "metadata": {
    "collapsed": true
   },
   "outputs": [],
   "source": [
    "import numpy as np\n",
    "import pandas as pd\n",
    "\n",
    "data = pd.read_csv('arm_error.csv')"
   ]
  },
  {
   "cell_type": "code",
   "execution_count": 62,
   "metadata": {
    "collapsed": false
   },
   "outputs": [
    {
     "data": {
      "text/html": [
       "<div>\n",
       "<table border=\"1\" class=\"dataframe\">\n",
       "  <thead>\n",
       "    <tr style=\"text-align: right;\">\n",
       "      <th></th>\n",
       "      <th>s1</th>\n",
       "      <th>s2</th>\n",
       "      <th>x</th>\n",
       "      <th>y</th>\n",
       "    </tr>\n",
       "  </thead>\n",
       "  <tbody>\n",
       "    <tr>\n",
       "      <th>0</th>\n",
       "      <td>945</td>\n",
       "      <td>672</td>\n",
       "      <td>18.00</td>\n",
       "      <td>18.00</td>\n",
       "    </tr>\n",
       "    <tr>\n",
       "      <th>1</th>\n",
       "      <td>756</td>\n",
       "      <td>396</td>\n",
       "      <td>9.00</td>\n",
       "      <td>9.00</td>\n",
       "    </tr>\n",
       "    <tr>\n",
       "      <th>2</th>\n",
       "      <td>389</td>\n",
       "      <td>1023</td>\n",
       "      <td>0.25</td>\n",
       "      <td>17.75</td>\n",
       "    </tr>\n",
       "    <tr>\n",
       "      <th>3</th>\n",
       "      <td>1023</td>\n",
       "      <td>0</td>\n",
       "      <td>16.30</td>\n",
       "      <td>0.00</td>\n",
       "    </tr>\n",
       "  </tbody>\n",
       "</table>\n",
       "</div>"
      ],
      "text/plain": [
       "     s1    s2      x      y\n",
       "0   945   672  18.00  18.00\n",
       "1   756   396   9.00   9.00\n",
       "2   389  1023   0.25  17.75\n",
       "3  1023     0  16.30   0.00"
      ]
     },
     "execution_count": 62,
     "metadata": {},
     "output_type": "execute_result"
    }
   ],
   "source": [
    "data.head()"
   ]
  },
  {
   "cell_type": "markdown",
   "metadata": {},
   "source": [
    "We need two new columns for $x$ and $y$ error. We can calculate this by first calulating the theoretical coordinate and then subtracting the observed coordinate.\n",
    "\n",
    "Variable/symbols:\n",
    "- `s1_gear_ratio` => $\\phi_{s_1}$\n",
    "- `s2_gear_ratio` => $\\phi_{s_2}$\n",
    "- `s1_rotation_offset` => $\\theta'_{s_1}$\n",
    "- `s2_rotation_offset` => $\\theta'_{s_2}$\n",
    "- `arm1_reach` => $l_1$\n",
    "- `arm2_reach` => $l_2$\n",
    "- `x_offset` => $x_{offset}$\n",
    "- `y_offset` => $y_{offset}$"
   ]
  },
  {
   "cell_type": "code",
   "execution_count": 63,
   "metadata": {
    "collapsed": false
   },
   "outputs": [],
   "source": [
    "dynamixel_range = 300.0\n",
    "s1_gear_ratio = 84.0 / 32.0\n",
    "s2_gear_ratio = 76.0 / 32.0\n",
    "s1_rotation_offset = np.pi/6.0\n",
    "s2_rotation_offset = np.pi/4.0\n",
    "arm1_reach = 15.25\n",
    "arm2_reach = 13.75\n",
    "x_offset = 20.00\n",
    "y_offset = 0.0\n",
    "\n",
    "def f(s1, s2):\n",
    "    s1_rotation = ((1023.0-s1)/1023.0) * np.deg2rad(dynamixel_range / s1_gear_ratio) + s1_rotation_offset\n",
    "    s2_rotation = ((1023.0-s2)/1023.0) * np.deg2rad(dynamixel_range / s2_gear_ratio) + s2_rotation_offset + s1_rotation\n",
    "    x = x_offset + np.cos(s1_rotation) * arm1_reach + np.cos(s2_rotation) * arm2_reach\n",
    "    y = y_offset + np.sin(s1_rotation) * arm1_reach + np.sin(s2_rotation) * arm2_reach\n",
    "    return np.array([x, y]).T\n",
    "\n",
    "theoretical_xy = f(data.values[:,0], data.values[:,1])"
   ]
  },
  {
   "cell_type": "code",
   "execution_count": 64,
   "metadata": {
    "collapsed": false
   },
   "outputs": [],
   "source": [
    "data.rename(columns = {'x': 'x_real', 'y': 'y_real'}, inplace=True)\n",
    "data[\"x_theory\"] = theoretical_xy[:,0]\n",
    "data[\"y_theory\"] = theoretical_xy[:,1]\n",
    "data[\"x_error\"] = data[\"x_real\"] - data[\"x_theory\"]\n",
    "data[\"y_error\"] = data[\"y_real\"] - data[\"y_theory\"]"
   ]
  },
  {
   "cell_type": "code",
   "execution_count": 65,
   "metadata": {
    "collapsed": false,
    "scrolled": true
   },
   "outputs": [
    {
     "data": {
      "text/html": [
       "<div>\n",
       "<table border=\"1\" class=\"dataframe\">\n",
       "  <thead>\n",
       "    <tr style=\"text-align: right;\">\n",
       "      <th></th>\n",
       "      <th>s1</th>\n",
       "      <th>s2</th>\n",
       "      <th>x_real</th>\n",
       "      <th>y_real</th>\n",
       "      <th>x_theory</th>\n",
       "      <th>y_theory</th>\n",
       "      <th>x_error</th>\n",
       "      <th>y_error</th>\n",
       "    </tr>\n",
       "  </thead>\n",
       "  <tbody>\n",
       "    <tr>\n",
       "      <th>0</th>\n",
       "      <td>945</td>\n",
       "      <td>672</td>\n",
       "      <td>18.00</td>\n",
       "      <td>18.00</td>\n",
       "      <td>23.613975</td>\n",
       "      <td>20.511281</td>\n",
       "      <td>-5.613975</td>\n",
       "      <td>-2.511281</td>\n",
       "    </tr>\n",
       "    <tr>\n",
       "      <th>1</th>\n",
       "      <td>756</td>\n",
       "      <td>396</td>\n",
       "      <td>9.00</td>\n",
       "      <td>9.00</td>\n",
       "      <td>13.925136</td>\n",
       "      <td>12.644725</td>\n",
       "      <td>-4.925136</td>\n",
       "      <td>-3.644725</td>\n",
       "    </tr>\n",
       "    <tr>\n",
       "      <th>2</th>\n",
       "      <td>389</td>\n",
       "      <td>1023</td>\n",
       "      <td>0.25</td>\n",
       "      <td>17.75</td>\n",
       "      <td>5.758943</td>\n",
       "      <td>22.701546</td>\n",
       "      <td>-5.508943</td>\n",
       "      <td>-4.951546</td>\n",
       "    </tr>\n",
       "    <tr>\n",
       "      <th>3</th>\n",
       "      <td>1023</td>\n",
       "      <td>0</td>\n",
       "      <td>16.30</td>\n",
       "      <td>0.00</td>\n",
       "      <td>20.397510</td>\n",
       "      <td>2.626765</td>\n",
       "      <td>-4.097510</td>\n",
       "      <td>-2.626765</td>\n",
       "    </tr>\n",
       "  </tbody>\n",
       "</table>\n",
       "</div>"
      ],
      "text/plain": [
       "     s1    s2  x_real  y_real   x_theory   y_theory   x_error   y_error\n",
       "0   945   672   18.00   18.00  23.613975  20.511281 -5.613975 -2.511281\n",
       "1   756   396    9.00    9.00  13.925136  12.644725 -4.925136 -3.644725\n",
       "2   389  1023    0.25   17.75   5.758943  22.701546 -5.508943 -4.951546\n",
       "3  1023     0   16.30    0.00  20.397510   2.626765 -4.097510 -2.626765"
      ]
     },
     "execution_count": 65,
     "metadata": {},
     "output_type": "execute_result"
    }
   ],
   "source": [
    "data.head()"
   ]
  },
  {
   "cell_type": "code",
   "execution_count": 86,
   "metadata": {
    "collapsed": false
   },
   "outputs": [
    {
     "data": {
      "image/png": "[encoded data removed]",
      "text/plain": [
       "<matplotlib.figure.Figure at 0x1129dc810>"
      ]
     },
     "metadata": {},
     "output_type": "display_data"
    }
   ],
   "source": [
    "import matplotlib.pyplot as plt\n",
    "from matplotlib import cm\n",
    "from matplotlib.ticker import LinearLocator\n",
    "from matplotlib.ticker import FormatStrFormatter\n",
    "from mpl_toolkits.mplot3d import Axes3D\n",
    "x_fig = plt.figure()\n",
    "ax = fig.gca(projection='3d')\n",
    "surf = ax.plot_surface(data['s1'], data['s2'], data['x_error'], rstride=1, cstride=1, cmap=cm.coolwarm,\n",
    "                       linewidth=0, antialiased=False)\n",
    "# ax.set_zlim(-1.01, 1.01)\n",
    "\n",
    "ax.xaxis.set_major_locator(LinearLocator(5))\n",
    "ax.yaxis.set_major_locator(LinearLocator(5))\n",
    "ax.zaxis.set_major_locator(LinearLocator(5))\n",
    "ax.zaxis.set_major_formatter(FormatStrFormatter('%.02f'))\n",
    "\n",
    "x_fig.colorbar(surf, shrink=0.5, aspect=5)\n",
    "plt.title('X Error')\n",
    "plt.show()\n",
    "\n",
    "# y_fig = plt.figure()\n",
    "# ax = fig.gca(projection='3d')\n",
    "# surf = ax.plot_surface(data['s1'], data['s2'], data['y_error'], rstride=1, cstride=1, cmap=cm.coolwarm,\n",
    "#                        linewidth=0, antialiased=False)\n",
    "# # ax.set_zlim(-1.01, 1.01)\n",
    "\n",
    "# ax.xaxis.set_major_locator(LinearLocator(5))\n",
    "# ax.yaxis.set_major_locator(LinearLocator(5))\n",
    "# ax.zaxis.set_major_locator(LinearLocator(5))\n",
    "# ax.zaxis.set_major_formatter(FormatStrFormatter('%.02f'))\n",
    "\n",
    "# y_fig.colorbar(surf, shrink=0.5, aspect=5)\n",
    "# plt.title('Y Error')\n",
    "# plt.show()\n",
    "\n",
    "\n",
    "# ax.plot_trisurf(data['s1'], data['s2'], data['x_error'], linewidth=0.2)\n",
    "# plt.show()"
   ]
  },
  {
   "cell_type": "code",
   "execution_count": null,
   "metadata": {
    "collapsed": true
   },
   "outputs": [],
   "source": []
  }
 ],
 "metadata": {
  "anaconda-cloud": {},
  "kernelspec": {
   "display_name": "Python [conda env:turk]",
   "language": "python",
   "name": "conda-env-turk-py"
  },
  "language_info": {
   "codemirror_mode": {
    "name": "ipython",
    "version": 2
   },
   "file_extension": ".py",
   "mimetype": "text/x-python",
   "name": "python",
   "nbconvert_exporter": "python",
   "pygments_lexer": "ipython2",
   "version": "2.7.12"
  }
 },
 "nbformat": 4,
 "nbformat_minor": 1
}
