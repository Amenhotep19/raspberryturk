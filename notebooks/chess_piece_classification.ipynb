{
 "cells": [
  {
   "cell_type": "code",
   "execution_count": 1,
   "metadata": {
    "collapsed": false
   },
   "outputs": [],
   "source": [
    "import project\n",
    "from raspberryturk.core.data.dataset import Dataset\n",
    "import numpy as np\n",
    "import tensorflow as tf\n",
    "from random import randint"
   ]
  },
  {
   "cell_type": "code",
   "execution_count": 2,
   "metadata": {
    "collapsed": true
   },
   "outputs": [],
   "source": [
    "MAX_DISPLAY_STEP = 1000\n",
    "LEARNING_RATE = 1e-4\n",
    "TRAINING_ITERATIONS = 50000\n",
    "DROPOUT = 0.5\n",
    "BATCH_SIZE = 5"
   ]
  },
  {
   "cell_type": "code",
   "execution_count": 3,
   "metadata": {
    "collapsed": false
   },
   "outputs": [],
   "source": [
    "d = Dataset.load_file(project.path('data', 'processed', 'dataset6.npz'))"
   ]
  },
  {
   "cell_type": "code",
   "execution_count": 4,
   "metadata": {
    "collapsed": false
   },
   "outputs": [],
   "source": [
    "labels_count = d.y_train.shape[1]\n",
    "image_size = 3600\n",
    "image_width = 60\n",
    "image_height = 60"
   ]
  },
  {
   "cell_type": "code",
   "execution_count": 5,
   "metadata": {
    "collapsed": true
   },
   "outputs": [],
   "source": [
    "train_images = d.X_train\n",
    "train_labels = d.y_train\n",
    "validation_images = d.X_val\n",
    "validation_labels = d.y_val"
   ]
  },
  {
   "cell_type": "code",
   "execution_count": 6,
   "metadata": {
    "collapsed": false
   },
   "outputs": [],
   "source": [
    "def weight_variable(shape):\n",
    "    initial = tf.truncated_normal(shape, stddev=0.1)\n",
    "    return tf.Variable(initial)\n",
    "\n",
    "def bias_variable(shape):\n",
    "    initial = tf.constant(0.1, shape=shape)\n",
    "    return tf.Variable(initial)\n",
    "\n",
    "def conv2d(x, W):\n",
    "    return tf.nn.conv2d(x, W, strides=[1,1,1,1], padding='SAME')\n",
    "\n",
    "def max_pool_2x2(x):\n",
    "    return tf.nn.max_pool(x, ksize=[1,2,2,1], strides=[1,2,2,1], padding='SAME')\n",
    "\n",
    "x = tf.placeholder('float', shape=[None, image_size])\n",
    "y_ = tf.placeholder('float', shape=[None, labels_count])\n",
    "\n",
    "W_conv1 = weight_variable([5, 5, 1, 32])\n",
    "b_conv1 = bias_variable([32])\n",
    "\n",
    "image = tf.reshape(x, [-1, image_width, image_height, 1])\n",
    "\n",
    "h_conv1 = tf.nn.relu(conv2d(image, W_conv1) + b_conv1)\n",
    "h_pool1 = max_pool_2x2(h_conv1)\n",
    "\n",
    "W_conv2 = weight_variable([5, 5, 32, 64])\n",
    "b_conv2 = bias_variable([64])\n",
    "\n",
    "h_conv2 = tf.nn.relu(conv2d(h_pool1, W_conv2) + b_conv2)\n",
    "h_pool2 = max_pool_2x2(h_conv2)\n",
    "\n",
    "W_fc1 = weight_variable([15 * 15 * 64, 1024])\n",
    "b_fc1 = bias_variable([1024])\n",
    "\n",
    "h_pool2_flat = tf.reshape(h_pool2, [-1, 15 * 15 * 64])\n",
    "h_fc1 = tf.nn.relu(tf.matmul(h_pool2_flat, W_fc1) + b_fc1)\n",
    "\n",
    "keep_prob = tf.placeholder('float')\n",
    "h_fc1_drop = tf.nn.dropout(h_fc1, keep_prob)\n",
    "\n",
    "\n",
    "W_fc2 = weight_variable([1024, labels_count])\n",
    "b_fc2 = bias_variable([labels_count])\n",
    "\n",
    "y = tf.nn.softmax(tf.matmul(h_fc1_drop, W_fc2) + b_fc2)\n",
    "\n",
    "cross_entropy = -tf.reduce_sum(y_*tf.log(y))\n",
    "\n",
    "train_step = tf.train.AdamOptimizer(LEARNING_RATE).minimize(cross_entropy)\n",
    "\n",
    "correct_prediction = tf.equal(tf.argmax(y,1), tf.argmax(y_,1))\n",
    "accuracy = tf.reduce_mean(tf.cast(correct_prediction, 'float'))\n",
    "\n",
    "predict = tf.argmax(y, 1)"
   ]
  },
  {
   "cell_type": "code",
   "execution_count": 7,
   "metadata": {
    "collapsed": true
   },
   "outputs": [],
   "source": [
    "epochs_completed = 0\n",
    "index_in_epoch = 0\n",
    "num_examples = d.X_train.shape[0]\n",
    "\n",
    "def next_batch(batch_size):\n",
    "    global train_images\n",
    "    global train_labels\n",
    "    global index_in_epoch\n",
    "    global epochs_completed\n",
    "    \n",
    "    start = index_in_epoch\n",
    "    index_in_epoch += batch_size\n",
    "    \n",
    "    if index_in_epoch > num_examples:\n",
    "        epochs_completed += 1\n",
    "        perm = np.arange(num_examples)\n",
    "        np.random.shuffle(perm)\n",
    "        train_images = train_images[perm]\n",
    "        train_labels = train_labels[perm]\n",
    "        start = 0\n",
    "        index_in_epoch = batch_size\n",
    "        assert batch_size <= num_examples\n",
    "    end = index_in_epoch\n",
    "    return train_images[start:end], train_labels[start:end]"
   ]
  },
  {
   "cell_type": "code",
   "execution_count": 8,
   "metadata": {
    "collapsed": true
   },
   "outputs": [],
   "source": [
    "init = tf.global_variables_initializer()\n",
    "sess = tf.InteractiveSession()\n",
    "\n",
    "sess.run(init)\n",
    "saver = tf.train.Saver()"
   ]
  },
  {
   "cell_type": "code",
   "execution_count": null,
   "metadata": {
    "collapsed": false
   },
   "outputs": [
    {
     "name": "stdout",
     "output_type": "stream",
     "text": [
      "training_accuracy / validation_accuracy => 0.00 / 0.05 for step 0\n",
      "training_accuracy / validation_accuracy => 0.20 / 0.48 for step 10\n",
      "training_accuracy / validation_accuracy => 0.40 / 0.38 for step 20\n",
      "training_accuracy / validation_accuracy => 0.60 / 0.40 for step 30\n",
      "training_accuracy / validation_accuracy => 1.00 / 0.44 for step 40\n",
      "training_accuracy / validation_accuracy => 0.40 / 0.39 for step 50\n",
      "training_accuracy / validation_accuracy => 0.20 / 0.26 for step 60\n",
      "training_accuracy / validation_accuracy => 0.40 / 0.50 for step 70\n",
      "training_accuracy / validation_accuracy => 0.20 / 0.28 for step 80\n",
      "training_accuracy / validation_accuracy => 0.60 / 0.24 for step 90\n",
      "training_accuracy / validation_accuracy => 0.60 / 0.46 for step 100\n",
      "training_accuracy / validation_accuracy => 0.00 / 0.42 for step 200\n",
      "training_accuracy / validation_accuracy => 0.00 / 0.43 for step 300\n",
      "training_accuracy / validation_accuracy => 0.20 / 0.43 for step 400\n",
      "training_accuracy / validation_accuracy => 0.40 / 0.45 for step 500\n",
      "training_accuracy / validation_accuracy => 0.80 / 0.46 for step 600\n",
      "training_accuracy / validation_accuracy => 0.40 / 0.46 for step 700\n",
      "training_accuracy / validation_accuracy => 0.80 / 0.48 for step 800\n",
      "training_accuracy / validation_accuracy => 0.20 / 0.50 for step 900\n",
      "training_accuracy / validation_accuracy => 0.60 / 0.48 for step 1000\n",
      "training_accuracy / validation_accuracy => 0.40 / 0.49 for step 2000\n",
      "training_accuracy / validation_accuracy => 0.40 / 0.50 for step 3000\n",
      "training_accuracy / validation_accuracy => 0.80 / 0.52 for step 4000\n",
      "training_accuracy / validation_accuracy => 0.80 / 0.56 for step 5000\n",
      "training_accuracy / validation_accuracy => 0.80 / 0.56 for step 6000\n"
     ]
    }
   ],
   "source": [
    "train_accuracies = []\n",
    "validation_accuracies = []\n",
    "x_range = []\n",
    "\n",
    "display_step = 10\n",
    "\n",
    "previous_best = 0.0\n",
    "for i in range(TRAINING_ITERATIONS):\n",
    "    batch_xs, batch_ys = next_batch(BATCH_SIZE)\n",
    "    if i%display_step == 0 or (i+1) == TRAINING_ITERATIONS:\n",
    "        train_accuracy = accuracy.eval(feed_dict={x: batch_xs,\n",
    "                                                  y_: batch_ys,\n",
    "                                                  keep_prob: 1.0})\n",
    "        val_len = 1000\n",
    "        ind = randint(0, validation_images.shape[0] - val_len - 1)\n",
    "        val_images_batch = validation_images[ind:ind+val_len]\n",
    "        val_labels_batch = validation_labels[ind:ind+val_len]\n",
    "        validation_accuracy = accuracy.eval(feed_dict={x: val_images_batch,\n",
    "                                                       y_: val_labels_batch,\n",
    "                                                       keep_prob: 1.0})\n",
    "        \n",
    "        print('training_accuracy / validation_accuracy => %.2f / %.2f for step %d'%(train_accuracy, validation_accuracy, i))\n",
    "        train_accuracies.append(train_accuracy)\n",
    "        validation_accuracies.append(validation_accuracy)\n",
    "        x_range.append(i)\n",
    "        if validation_accuracy > previous_best:\n",
    "            previous_best = validation_accuracy\n",
    "        if i%(display_step*10) == 0 and i:\n",
    "            display_step *= 10\n",
    "            \n",
    "    sess.run(train_step, feed_dict={x: batch_xs, y_: batch_ys, keep_prob: DROPOUT})\n",
    "print(\"Finished training, best model accuracy: %.5f\"%(previous_best))"
   ]
  },
  {
   "cell_type": "code",
   "execution_count": null,
   "metadata": {
    "collapsed": true
   },
   "outputs": [],
   "source": []
  },
  {
   "cell_type": "code",
   "execution_count": null,
   "metadata": {
    "collapsed": true
   },
   "outputs": [],
   "source": []
  }
 ],
 "metadata": {
  "anaconda-cloud": {},
  "kernelspec": {
   "display_name": "Python [conda env:turk]",
   "language": "python",
   "name": "conda-env-turk-py"
  },
  "language_info": {
   "codemirror_mode": {
    "name": "ipython",
    "version": 2
   },
   "file_extension": ".py",
   "mimetype": "text/x-python",
   "name": "python",
   "nbconvert_exporter": "python",
   "pygments_lexer": "ipython2",
   "version": "2.7.12"
  }
 },
 "nbformat": 4,
 "nbformat_minor": 1
}
